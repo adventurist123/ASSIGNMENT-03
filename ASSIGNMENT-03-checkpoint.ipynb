{
 "cells": [
  {
   "cell_type": "code",
   "execution_count": 4,
   "id": "3e161777",
   "metadata": {},
   "outputs": [
    {
     "name": "stdout",
     "output_type": "stream",
     "text": [
      "Twinkle, twinkle, little star,\n",
      "         How I wonder what you are!\n",
      "                 Up above the world so high,\n",
      "                 Like a diamond in the sky.\n",
      "Twinkle, twinkle, little star,\n",
      "         How I wonder what you are!\n"
     ]
    }
   ],
   "source": [
    "# PROGRAM#01\n",
    "print(\"Twinkle, twinkle, little star,\");\n",
    "print(\"         How I wonder what you are!\");\n",
    "print(\"                 Up above the world so high,\");\n",
    "print(\"                 Like a diamond in the sky.\");\n",
    "print(\"Twinkle, twinkle, little star,\");\n",
    "print(\"         How I wonder what you are!\");\n"
   ]
  },
  {
   "cell_type": "code",
   "execution_count": 6,
   "id": "339504b5",
   "metadata": {},
   "outputs": [
    {
     "data": {
      "text/plain": [
       "'3.8.8'"
      ]
     },
     "execution_count": 6,
     "metadata": {},
     "output_type": "execute_result"
    }
   ],
   "source": [
    "# PROGRAM#02\n",
    "from platform import python_version\n",
    "python_version()"
   ]
  },
  {
   "cell_type": "code",
   "execution_count": 7,
   "id": "709ce2b4",
   "metadata": {},
   "outputs": [
    {
     "name": "stdout",
     "output_type": "stream",
     "text": [
      "2021-10-23 00:27:55\n"
     ]
    }
   ],
   "source": [
    "# PROGRAM#03\n",
    "from datetime import datetime\n",
    "now = datetime.now()\n",
    "print(now.strftime(\"%Y-%m-%d %H:%M:%S\"))\n"
   ]
  },
  {
   "cell_type": "code",
   "execution_count": 8,
   "id": "d92b314d",
   "metadata": {},
   "outputs": [
    {
     "name": "stdout",
     "output_type": "stream",
     "text": [
      "Enter Radius of a Circle 5\n",
      "The Area of a Circle is 78.55\n"
     ]
    }
   ],
   "source": [
    "# PROGRAM#04\n",
    "radius =float(input(\"Enter Radius of a Circle \"));\n",
    "pi = 3.142;\n",
    "a=pi*radius*radius;\n",
    "print(\"The Area of a Circle is %.2f\"  %a);\n"
   ]
  },
  {
   "cell_type": "code",
   "execution_count": 9,
   "id": "64b5e14a",
   "metadata": {},
   "outputs": [
    {
     "name": "stdout",
     "output_type": "stream",
     "text": [
      "Enter First Name :  ZEESHAN\n",
      "Enter Last Name :  MALIK\n",
      "ZEESHAN MALIK\n",
      "KILAM NAHSEEZ\n"
     ]
    }
   ],
   "source": [
    "# PROGRAM#05\n",
    "fname = input(\"Enter First Name :  \");\n",
    "lname = input(\"Enter Last Name :  \");\n",
    "tname = fname + \" \" +lname;\n",
    "print(tname);\n",
    "print(tname[::-1]);\n"
   ]
  },
  {
   "cell_type": "code",
   "execution_count": 10,
   "id": "e411833d",
   "metadata": {},
   "outputs": [
    {
     "name": "stdout",
     "output_type": "stream",
     "text": [
      "Enter First Number6\n",
      "Enter Second Number7\n",
      "The Addition is : 13\n"
     ]
    }
   ],
   "source": [
    "# PROGRAM#06\n",
    "NUM1 = int(input(\"Enter First Number\"));\n",
    "NUM2 = int(input(\"Enter Second Number\"));\n",
    "addition = NUM1 + NUM2;\n",
    "print(\"The Addition is :\",addition)\n",
    "\n"
   ]
  },
  {
   "cell_type": "code",
   "execution_count": 11,
   "id": "274f5f6b",
   "metadata": {},
   "outputs": [
    {
     "name": "stdout",
     "output_type": "stream",
     "text": [
      "Enter English Marks 55\n",
      "Enter Islamiat Marks 65\n",
      "Enter Maths Marks 23\n",
      "Enter physics Marks 89\n",
      "Enter Chemistry Marks 57\n",
      "percentage is 57.8\n",
      "Grade is C\n"
     ]
    }
   ],
   "source": [
    "# PROGRAM#07\n",
    "english=int(input(\"Enter English Marks \"));\n",
    "islamiat=int(input(\"Enter Islamiat Marks \"));\n",
    "maths=int(input(\"Enter Maths Marks \"));\n",
    "physics=int(input(\"Enter physics Marks \"));\n",
    "chemistry = int(input(\"Enter Chemistry Marks \"));\n",
    "obtainedmarks=english+islamiat+maths+physics+chemistry;\n",
    "totalmarks=500;\n",
    "percentage=obtainedmarks/totalmarks*100;\n",
    "print(\"percentage is\" , percentage);\n",
    "if (percentage > 80 and percentage <100):\n",
    "    print(\"Grade is A-ONE\");\n",
    "elif (percentage < 80 and percentage >70):\n",
    "    print(\"Grade is A\");\n",
    "elif (percentage < 70 and percentage >60):\n",
    "    print(\"Grade is B\");\n",
    "elif (percentage < 60 and percentage >50):\n",
    "    print(\"Grade is C\");\n",
    "elif (percentage < 50 and percentage >40):\n",
    "    print(\"Grade is D\");\n",
    "elif (percentage < 1 and percentage >100):\n",
    "    print(\"ERROR\");\n",
    "else:\n",
    "    print(\"FAIL\");\n"
   ]
  },
  {
   "cell_type": "code",
   "execution_count": 12,
   "id": "13d5e457",
   "metadata": {},
   "outputs": [
    {
     "name": "stdout",
     "output_type": "stream",
     "text": [
      "Enter Required Number: 7\n",
      "The Number is odd\n"
     ]
    }
   ],
   "source": [
    "# PROGRAM#08\n",
    "num = int(input(\"Enter Required Number: \"))\n",
    "if num%2 == 0:\n",
    "    print(\"The Number is Even\");\n",
    "else:\n",
    "    print(\"The Number is odd\");\n"
   ]
  },
  {
   "cell_type": "code",
   "execution_count": 13,
   "id": "9d22a2f1",
   "metadata": {},
   "outputs": [
    {
     "name": "stdout",
     "output_type": "stream",
     "text": [
      "7\n"
     ]
    }
   ],
   "source": [
    "# PROGRAM#09\n",
    "arr = [3,5,8,9,10,12,15];\n",
    "print(len(arr));\n",
    "\n"
   ]
  },
  {
   "cell_type": "code",
   "execution_count": 14,
   "id": "c4203b61",
   "metadata": {},
   "outputs": [
    {
     "name": "stdout",
     "output_type": "stream",
     "text": [
      "62\n"
     ]
    }
   ],
   "source": [
    "# PROGRAM#10\n",
    "arr = [3,5,8,9,10,12,15];\n",
    "print(sum(arr));\n"
   ]
  },
  {
   "cell_type": "code",
   "execution_count": 15,
   "id": "b173ab97",
   "metadata": {},
   "outputs": [
    {
     "name": "stdout",
     "output_type": "stream",
     "text": [
      "15\n"
     ]
    }
   ],
   "source": [
    "# PROGRAM#11\n",
    "arr = [3,5,8,9,10,12,15];\n",
    "print(max(arr));\n"
   ]
  },
  {
   "cell_type": "code",
   "execution_count": 16,
   "id": "e17b3f82",
   "metadata": {},
   "outputs": [
    {
     "name": "stdout",
     "output_type": "stream",
     "text": [
      "[1, 1, 2, 3]\n"
     ]
    }
   ],
   "source": [
    "# PROGRAM#12\n",
    "a = [1, 1, 2, 3, 5, 8, 13, 21, 34, 55, 89]\n",
    "b = []\n",
    "for i in a:\n",
    "    if i < 5:\n",
    "        b.append(i)\n",
    "print(b)\n"
   ]
  },
  {
   "cell_type": "code",
   "execution_count": null,
   "id": "77471442",
   "metadata": {},
   "outputs": [],
   "source": []
  }
 ],
 "metadata": {
  "kernelspec": {
   "display_name": "Python 3",
   "language": "python",
   "name": "python3"
  },
  "language_info": {
   "codemirror_mode": {
    "name": "ipython",
    "version": 3
   },
   "file_extension": ".py",
   "mimetype": "text/x-python",
   "name": "python",
   "nbconvert_exporter": "python",
   "pygments_lexer": "ipython3",
   "version": "3.8.8"
  }
 },
 "nbformat": 4,
 "nbformat_minor": 5
}
